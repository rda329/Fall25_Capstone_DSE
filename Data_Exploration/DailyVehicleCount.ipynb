{
 "cells": [
  {
   "cell_type": "code",
   "execution_count": null,
   "id": "6c6712c6",
   "metadata": {},
   "outputs": [],
   "source": [
    "\"\"\"\n",
    "This notebook will be exploring the distribution of vehicles traveling the BQE pre/post Weigh In Motion Enforcement.\n",
    "We seek to determine if there was a statistically significant change in the volume of traffic/ type of traffic traversing the BQE.\n",
    "\"\"\""
   ]
  },
  {
   "cell_type": "code",
   "execution_count": 1,
   "id": "01dcabb7",
   "metadata": {},
   "outputs": [],
   "source": [
    "import pandas as pd"
   ]
  },
  {
   "cell_type": "code",
   "execution_count": null,
   "id": "91876b66",
   "metadata": {},
   "outputs": [],
   "source": []
  }
 ],
 "metadata": {
  "kernelspec": {
   "display_name": "Fall25_Capstone",
   "language": "python",
   "name": "python3"
  },
  "language_info": {
   "codemirror_mode": {
    "name": "ipython",
    "version": 3
   },
   "file_extension": ".py",
   "mimetype": "text/x-python",
   "name": "python",
   "nbconvert_exporter": "python",
   "pygments_lexer": "ipython3",
   "version": "3.12.11"
  }
 },
 "nbformat": 4,
 "nbformat_minor": 5
}

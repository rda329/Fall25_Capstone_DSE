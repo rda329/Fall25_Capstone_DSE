{
 "cells": [
  {
   "cell_type": "code",
   "execution_count": 1,
   "id": "ece36044-0f26-4be3-beae-37928d787369",
   "metadata": {},
   "outputs": [
    {
     "name": "stdout",
     "output_type": "stream",
     "text": [
      "Spark is running. Don't forget to stop session to terminate background java process!\n"
     ]
    }
   ],
   "source": [
    "from pyspark.sql import SparkSession\n",
    "\n",
    "spark = SparkSession.builder \\\n",
    "    .appName(\"Capstone_Data\") \\\n",
    "    .master(\"local[*]\") \\\n",
    "    .getOrCreate()\n",
    "print(\"Spark is running. Don't forget to stop session to terminate background java process!\")\n"
   ]
  },
  {
   "cell_type": "markdown",
   "id": "993f389e",
   "metadata": {},
   "source": [
    "Weigh In Motion Historical Data 2019 - 2023"
   ]
  },
  {
   "cell_type": "code",
   "execution_count": 5,
   "id": "d2e191d0-6ac4-408d-8084-fbc227d24ef8",
   "metadata": {},
   "outputs": [
    {
     "name": "stdout",
     "output_type": "stream",
     "text": [
      "+---------+----+-----+---+----+------+------+----+-----+-----+---------+----+---------+----+----+----+----+----+----+----+----+----+----+----+----+----+----+----+----+----+----+----+-----+----+-----+----+-----+----+-----+----+-----+----+-----+----+-----+----+---------+---------+\n",
      "|direction|year|month|day|hour|minute|second|lane|class|speed|num_axles| gvw|wheelbase| wt1|spc1| wt2|spc2| wt3|spc3| wt4|spc4| wt5|spc5| wt6|spc6| wt7|spc7| wt8|spc8| wt9|spc9|wt10|spc10|wt11|spc11|wt12|spc12|wt13|spc13|wt14|spc14|wt15|spc15|wt16|spc16|wt17|dirtravel|yearmonth|\n",
      "+---------+----+-----+---+----+------+------+----+-----+-----+---------+----+---------+----+----+----+----+----+----+----+----+----+----+----+----+----+----+----+----+----+----+----+-----+----+-----+----+-----+----+-----+----+-----+----+-----+----+-----+----+---------+---------+\n",
      "|       QB|  23|    5|  8|  17|    53|    16|   2|    2|   49|        2|4880|      9.5|2700| 9.5|2180|NULL|NULL|NULL|NULL|NULL|NULL|NULL|NULL|NULL|NULL|NULL|NULL|NULL|NULL|NULL|NULL| NULL|NULL| NULL|NULL| NULL|NULL| NULL|NULL| NULL|NULL| NULL|NULL| NULL|NULL|     NULL|   202305|\n",
      "|       QB|  23|    9| 13|  22|     6|    18|   1|    2|   46|        2|5760|      9.6|3080| 9.6|2680|NULL|NULL|NULL|NULL|NULL|NULL|NULL|NULL|NULL|NULL|NULL|NULL|NULL|NULL|NULL|NULL| NULL|NULL| NULL|NULL| NULL|NULL| NULL|NULL| NULL|NULL| NULL|NULL| NULL|NULL|     NULL|   202309|\n",
      "|       QB|  23|    8| 22|  16|     6|    24|   1|    2|   55|        2|5840|      9.2|3140| 9.2|2700|NULL|NULL|NULL|NULL|NULL|NULL|NULL|NULL|NULL|NULL|NULL|NULL|NULL|NULL|NULL|NULL| NULL|NULL| NULL|NULL| NULL|NULL| NULL|NULL| NULL|NULL| NULL|NULL| NULL|NULL|     NULL|   202308|\n",
      "|       QB|  23|   11| 27|   1|    27|    23|   1|    2|   45|        2|3760|      9.3|2240| 9.3|1520|NULL|NULL|NULL|NULL|NULL|NULL|NULL|NULL|NULL|NULL|NULL|NULL|NULL|NULL|NULL|NULL| NULL|NULL| NULL|NULL| NULL|NULL| NULL|NULL| NULL|NULL| NULL|NULL| NULL|NULL|     NULL|   202311|\n",
      "|       QB|  23|    8| 31|  17|    38|    47|   1|    3|   11|        2|5820|     12.6|3460|12.6|2360|NULL|NULL|NULL|NULL|NULL|NULL|NULL|NULL|NULL|NULL|NULL|NULL|NULL|NULL|NULL|NULL| NULL|NULL| NULL|NULL| NULL|NULL| NULL|NULL| NULL|NULL| NULL|NULL| NULL|NULL|     NULL|   202308|\n",
      "+---------+----+-----+---+----+------+------+----+-----+-----+---------+----+---------+----+----+----+----+----+----+----+----+----+----+----+----+----+----+----+----+----+----+----+-----+----+-----+----+-----+----+-----+----+-----+----+-----+----+-----+----+---------+---------+\n",
      "only showing top 5 rows\n"
     ]
    }
   ],
   "source": [
    "df = spark.read.csv(\"Data_Exploration/Data/Weigh_in_Motion_19_23.csv\", header=True, inferSchema=True)\n",
    "df.show(5)"
   ]
  },
  {
   "cell_type": "code",
   "execution_count": 6,
   "id": "dca54ff1",
   "metadata": {},
   "outputs": [],
   "source": [
    "df.createOrReplaceTempView(\"table1\")"
   ]
  },
  {
   "cell_type": "code",
   "execution_count": null,
   "id": "3e51232d",
   "metadata": {},
   "outputs": [],
   "source": [
    "#df2 contains daily count of vehicles\n",
    "\n",
    "df2 = spark.sql(\"\"\"\n",
    "SELECT direction, year, month,day, class, COUNT(*) AS class_count\n",
    "FROM table1\n",
    "GROUP BY direction,year,month,day, class\n",
    "\"\"\")"
   ]
  },
  {
   "cell_type": "code",
   "execution_count": 8,
   "id": "bf6698a9",
   "metadata": {},
   "outputs": [
    {
     "data": {
      "text/plain": [
       "[Row(direction='QB'), Row(direction='SIB')]"
      ]
     },
     "execution_count": 8,
     "metadata": {},
     "output_type": "execute_result"
    }
   ],
   "source": [
    "df2.select(\"direction\").distinct().collect()\n",
    "\n",
    "#2 main directions Queens Bound, Staten Island Bound"
   ]
  },
  {
   "cell_type": "code",
   "execution_count": null,
   "id": "dcf6f880",
   "metadata": {},
   "outputs": [],
   "source": [
    "QB_df = df2.filter(df2.direction == \"QB\") #Filtering for Queens bound traffic #18,009 records\n",
    "SIB_df = df2.filter(df2.direction == \"SIB\") #filtering for SI bound traffic #5,690 records\n"
   ]
  },
  {
   "cell_type": "code",
   "execution_count": 12,
   "id": "0d2d1cbd",
   "metadata": {},
   "outputs": [
    {
     "data": {
      "text/plain": [
       "18009"
      ]
     },
     "execution_count": 12,
     "metadata": {},
     "output_type": "execute_result"
    }
   ],
   "source": [
    "QB_df.count()"
   ]
  },
  {
   "cell_type": "code",
   "execution_count": 11,
   "id": "ba553a14",
   "metadata": {},
   "outputs": [],
   "source": [
    "#Exporting Filtered DF for daily vehicle count class 6 or higher QB\n",
    "#Filtered Dataset is small enough to save locally\n",
    "\n",
    "QB_df.toPandas().to_csv(\"Data_Exploration/Data/QB_daily_vehicle_count_19_23.csv\", index=False)\n",
    "\n",
    "SIB_df.toPandas().to_csv(\"Data_Exploration/Data/SIB_daily_vehicle_count_19_23.csv\", index=False)"
   ]
  },
  {
   "cell_type": "code",
   "execution_count": null,
   "id": "81c0e991-c379-4235-9de9-84bb7fce9829",
   "metadata": {},
   "outputs": [],
   "source": [
    "spark.stop() #Dont forget to end session"
   ]
  },
  {
   "cell_type": "markdown",
   "id": "9eb9761b",
   "metadata": {},
   "source": [
    "Weigh In Motion Data 2024 - 2025"
   ]
  },
  {
   "cell_type": "code",
   "execution_count": 13,
   "id": "829c6b95",
   "metadata": {},
   "outputs": [
    {
     "name": "stdout",
     "output_type": "stream",
     "text": [
      "+---------+----+-----+---+----+------+------+----+-----+-----+---------+-----+---------+----+----+-----+----+----+----+----+----+----+----+----+----+----+----+----+----+----+----+----+-----+----+-----+----+-----+----+-----+----+-----+----+-----+----+-----+----+---------+---------+\n",
      "|direction|year|month|day|hour|minute|second|lane|class|speed|num_axles|  gvw|wheelbase| wt1|spc1|  wt2|spc2| wt3|spc3| wt4|spc4| wt5|spc5| wt6|spc6| wt7|spc7| wt8|spc8| wt9|spc9|wt10|spc10|wt11|spc11|wt12|spc12|wt13|spc13|wt14|spc14|wt15|spc15|wt16|spc16|wt17|dirtravel|yearmonth|\n",
      "+---------+----+-----+---+----+------+------+----+-----+-----+---------+-----+---------+----+----+-----+----+----+----+----+----+----+----+----+----+----+----+----+----+----+----+----+-----+----+-----+----+-----+----+-----+----+-----+----+-----+----+-----+----+---------+---------+\n",
      "|       QB|  24|    8| 26|   6|    30|    55|   2|    2|   52|        2| 4400|      9.4|2600| 9.4| 1800|NULL|NULL|NULL|NULL|NULL|NULL|NULL|NULL|NULL|NULL|NULL|NULL|NULL|NULL|NULL|NULL| NULL|NULL| NULL|NULL| NULL|NULL| NULL|NULL| NULL|NULL| NULL|NULL| NULL|NULL|     NULL|   202408|\n",
      "|       QB|  24|    1| 20|  15|    29|    21|   1|    2|   38|        2| 4260|      9.4|2260| 9.4| 2000|NULL|NULL|NULL|NULL|NULL|NULL|NULL|NULL|NULL|NULL|NULL|NULL|NULL|NULL|NULL|NULL| NULL|NULL| NULL|NULL| NULL|NULL| NULL|NULL| NULL|NULL| NULL|NULL| NULL|NULL|     NULL|   202401|\n",
      "|       QB|  24|    8| 14|  17|    12|    49|   2|    2|   51|        2| 5580|     10.0|2680|10.0| 2900|NULL|NULL|NULL|NULL|NULL|NULL|NULL|NULL|NULL|NULL|NULL|NULL|NULL|NULL|NULL|NULL| NULL|NULL| NULL|NULL| NULL|NULL| NULL|NULL| NULL|NULL| NULL|NULL| NULL|NULL|     NULL|   202408|\n",
      "|       QB|  24|    4|  1|   9|    14|    12|   1|    5|   43|        2|21700|     17.8|6720|17.8|14980|NULL|NULL|NULL|NULL|NULL|NULL|NULL|NULL|NULL|NULL|NULL|NULL|NULL|NULL|NULL|NULL| NULL|NULL| NULL|NULL| NULL|NULL| NULL|NULL| NULL|NULL| NULL|NULL| NULL|NULL|     NULL|   202404|\n",
      "|       QB|  24|    8|  5|  18|    48|    29|   2|    3|   48|        2| 6300|     11.7|3540|11.7| 2760|NULL|NULL|NULL|NULL|NULL|NULL|NULL|NULL|NULL|NULL|NULL|NULL|NULL|NULL|NULL|NULL| NULL|NULL| NULL|NULL| NULL|NULL| NULL|NULL| NULL|NULL| NULL|NULL| NULL|NULL|     NULL|   202408|\n",
      "+---------+----+-----+---+----+------+------+----+-----+-----+---------+-----+---------+----+----+-----+----+----+----+----+----+----+----+----+----+----+----+----+----+----+----+----+-----+----+-----+----+-----+----+-----+----+-----+----+-----+----+-----+----+---------+---------+\n",
      "only showing top 5 rows\n"
     ]
    }
   ],
   "source": [
    "df = spark.read.csv(\"Data_Exploration/Data/Weigh_in_Motion_24_25.csv\", header=True, inferSchema=True)\n",
    "df.show(5)"
   ]
  },
  {
   "cell_type": "code",
   "execution_count": 14,
   "id": "2c1080e2",
   "metadata": {},
   "outputs": [],
   "source": [
    "df.createOrReplaceTempView(\"table1\")"
   ]
  },
  {
   "cell_type": "code",
   "execution_count": 15,
   "id": "9bd710e7",
   "metadata": {},
   "outputs": [],
   "source": [
    "#df2 contains daily count of vehicles class 6\n",
    "\n",
    "df2 = spark.sql(\"\"\"\n",
    "SELECT direction, year, month,day, class, COUNT(*) AS class_count\n",
    "FROM table1\n",
    "GROUP BY direction,year,month,day, class\n",
    "\"\"\")"
   ]
  },
  {
   "cell_type": "code",
   "execution_count": 16,
   "id": "04248388",
   "metadata": {},
   "outputs": [
    {
     "data": {
      "text/plain": [
       "[Row(direction='QB')]"
      ]
     },
     "execution_count": 16,
     "metadata": {},
     "output_type": "execute_result"
    }
   ],
   "source": [
    "df2.select(\"direction\").distinct().collect()\n",
    "\n",
    "#Only one direction Queens Bound"
   ]
  },
  {
   "cell_type": "code",
   "execution_count": null,
   "id": "598cbdb5",
   "metadata": {},
   "outputs": [],
   "source": [
    "QB_df = df2.filter(df2.direction == \"QB\") #Filtering for Queens bound traffic #5,777 records"
   ]
  },
  {
   "cell_type": "code",
   "execution_count": 18,
   "id": "a53a9dfd",
   "metadata": {},
   "outputs": [
    {
     "data": {
      "text/plain": [
       "5777"
      ]
     },
     "execution_count": 18,
     "metadata": {},
     "output_type": "execute_result"
    }
   ],
   "source": [
    "QB_df.count()"
   ]
  },
  {
   "cell_type": "code",
   "execution_count": null,
   "id": "f63b9a23",
   "metadata": {},
   "outputs": [],
   "source": [
    "#Exporting Filtered DF for daily vehicle count\n",
    "#Filtered Dataset is small enough to save locally\n",
    "\n",
    "QB_df.toPandas().to_csv(\"Data_Exploration/Data/QB_daily_vehicle_count_24_25.csv\", index=False)"
   ]
  },
  {
   "cell_type": "code",
   "execution_count": 20,
   "id": "d4224cb4",
   "metadata": {},
   "outputs": [],
   "source": [
    "spark.stop() #Dont forget to end session"
   ]
  },
  {
   "cell_type": "code",
   "execution_count": null,
   "id": "7a4f8e9b",
   "metadata": {},
   "outputs": [],
   "source": []
  }
 ],
 "metadata": {
  "kernelspec": {
   "display_name": "Fall25_Capstone",
   "language": "python",
   "name": "python3"
  },
  "language_info": {
   "codemirror_mode": {
    "name": "ipython",
    "version": 3
   },
   "file_extension": ".py",
   "mimetype": "text/x-python",
   "name": "python",
   "nbconvert_exporter": "python",
   "pygments_lexer": "ipython3",
   "version": "3.12.11"
  }
 },
 "nbformat": 4,
 "nbformat_minor": 5
}

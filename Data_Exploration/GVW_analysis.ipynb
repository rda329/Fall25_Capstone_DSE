{
 "cells": [
  {
   "cell_type": "code",
   "execution_count": 85,
   "id": "c23213a5",
   "metadata": {},
   "outputs": [],
   "source": [
    "#Gross Vehicle Weight Analysis of WIM Data"
   ]
  },
  {
   "cell_type": "markdown",
   "id": "76e54130",
   "metadata": {},
   "source": [
    "Criteria for compliant / overweight by class"
   ]
  },
  {
   "cell_type": "markdown",
   "id": "6659b49e",
   "metadata": {},
   "source": [
    "Gross Vehicle Weights By Class"
   ]
  },
  {
   "cell_type": "code",
   "execution_count": 86,
   "id": "3723c214",
   "metadata": {},
   "outputs": [
    {
     "name": "stdout",
     "output_type": "stream",
     "text": [
      "Spark is running. Don't forget to stop session to terminate background java process!\n"
     ]
    }
   ],
   "source": [
    "from pyspark.sql import SparkSession\n",
    "\n",
    "spark = SparkSession.builder \\\n",
    "    .appName(\"Capstone_Data\") \\\n",
    "    .master(\"local[*]\") \\\n",
    "    .getOrCreate()\n",
    "print(\"Spark is running. Don't forget to stop session to terminate background java process!\")\n"
   ]
  },
  {
   "cell_type": "markdown",
   "id": "fbd3a638",
   "metadata": {},
   "source": [
    "Historical (2019-2023)"
   ]
  },
  {
   "cell_type": "code",
   "execution_count": 87,
   "id": "282b2652",
   "metadata": {},
   "outputs": [
    {
     "name": "stderr",
     "output_type": "stream",
     "text": [
      "<>:1: SyntaxWarning: invalid escape sequence '\\R'\n",
      "<>:1: SyntaxWarning: invalid escape sequence '\\R'\n",
      "C:\\Users\\rubie\\AppData\\Local\\Temp\\ipykernel_9804\\1412014802.py:1: SyntaxWarning: invalid escape sequence '\\R'\n",
      "  df = spark.read.csv(\"Data\\Raw_Data\\Weigh_in_Motion_19_23.csv\", header=True, inferSchema=True)\n"
     ]
    },
    {
     "name": "stdout",
     "output_type": "stream",
     "text": [
      "+---------+----+-----+---+----+------+------+----+-----+-----+---------+----+---------+----+----+----+----+----+----+----+----+----+----+----+----+----+----+----+----+----+----+----+-----+----+-----+----+-----+----+-----+----+-----+----+-----+----+-----+----+---------+---------+\n",
      "|direction|year|month|day|hour|minute|second|lane|class|speed|num_axles| gvw|wheelbase| wt1|spc1| wt2|spc2| wt3|spc3| wt4|spc4| wt5|spc5| wt6|spc6| wt7|spc7| wt8|spc8| wt9|spc9|wt10|spc10|wt11|spc11|wt12|spc12|wt13|spc13|wt14|spc14|wt15|spc15|wt16|spc16|wt17|dirtravel|yearmonth|\n",
      "+---------+----+-----+---+----+------+------+----+-----+-----+---------+----+---------+----+----+----+----+----+----+----+----+----+----+----+----+----+----+----+----+----+----+----+-----+----+-----+----+-----+----+-----+----+-----+----+-----+----+-----+----+---------+---------+\n",
      "|       QB|  23|    5|  8|  17|    53|    16|   2|    2|   49|        2|4880|      9.5|2700| 9.5|2180|NULL|NULL|NULL|NULL|NULL|NULL|NULL|NULL|NULL|NULL|NULL|NULL|NULL|NULL|NULL|NULL| NULL|NULL| NULL|NULL| NULL|NULL| NULL|NULL| NULL|NULL| NULL|NULL| NULL|NULL|     NULL|   202305|\n",
      "|       QB|  23|    9| 13|  22|     6|    18|   1|    2|   46|        2|5760|      9.6|3080| 9.6|2680|NULL|NULL|NULL|NULL|NULL|NULL|NULL|NULL|NULL|NULL|NULL|NULL|NULL|NULL|NULL|NULL| NULL|NULL| NULL|NULL| NULL|NULL| NULL|NULL| NULL|NULL| NULL|NULL| NULL|NULL|     NULL|   202309|\n",
      "|       QB|  23|    8| 22|  16|     6|    24|   1|    2|   55|        2|5840|      9.2|3140| 9.2|2700|NULL|NULL|NULL|NULL|NULL|NULL|NULL|NULL|NULL|NULL|NULL|NULL|NULL|NULL|NULL|NULL| NULL|NULL| NULL|NULL| NULL|NULL| NULL|NULL| NULL|NULL| NULL|NULL| NULL|NULL|     NULL|   202308|\n",
      "|       QB|  23|   11| 27|   1|    27|    23|   1|    2|   45|        2|3760|      9.3|2240| 9.3|1520|NULL|NULL|NULL|NULL|NULL|NULL|NULL|NULL|NULL|NULL|NULL|NULL|NULL|NULL|NULL|NULL| NULL|NULL| NULL|NULL| NULL|NULL| NULL|NULL| NULL|NULL| NULL|NULL| NULL|NULL|     NULL|   202311|\n",
      "|       QB|  23|    8| 31|  17|    38|    47|   1|    3|   11|        2|5820|     12.6|3460|12.6|2360|NULL|NULL|NULL|NULL|NULL|NULL|NULL|NULL|NULL|NULL|NULL|NULL|NULL|NULL|NULL|NULL| NULL|NULL| NULL|NULL| NULL|NULL| NULL|NULL| NULL|NULL| NULL|NULL| NULL|NULL|     NULL|   202308|\n",
      "+---------+----+-----+---+----+------+------+----+-----+-----+---------+----+---------+----+----+----+----+----+----+----+----+----+----+----+----+----+----+----+----+----+----+----+-----+----+-----+----+-----+----+-----+----+-----+----+-----+----+-----+----+---------+---------+\n",
      "only showing top 5 rows\n"
     ]
    }
   ],
   "source": [
    "df = spark.read.csv(\"Data\\Raw_Data\\Weigh_in_Motion_19_23.csv\", header=True, inferSchema=True)\n",
    "df.show(5)"
   ]
  },
  {
   "cell_type": "code",
   "execution_count": 88,
   "id": "fd36a7c1",
   "metadata": {},
   "outputs": [],
   "source": [
    "df.createOrReplaceTempView(\"table1\")"
   ]
  },
  {
   "cell_type": "code",
   "execution_count": 89,
   "id": "6ace2694",
   "metadata": {},
   "outputs": [
    {
     "name": "stdout",
     "output_type": "stream",
     "text": [
      "+---------+----+-----+---+----+------+------+----+-----+-----+---------+----+---------+----+----+----+----+----+----+----+----+----+----+----+----+----+----+----+----+----+----+----+-----+----+-----+----+-----+----+-----+----+-----+----+-----+----+-----+----+---------+---------+------------+------+\n",
      "|direction|year|month|day|hour|minute|second|lane|class|speed|num_axles| gvw|wheelbase| wt1|spc1| wt2|spc2| wt3|spc3| wt4|spc4| wt5|spc5| wt6|spc6| wt7|spc7| wt8|spc8| wt9|spc9|wt10|spc10|wt11|spc11|wt12|spc12|wt13|spc13|wt14|spc14|wt15|spc15|wt16|spc16|wt17|dirtravel|yearmonth|exceed_80000|Ticket|\n",
      "+---------+----+-----+---+----+------+------+----+-----+-----+---------+----+---------+----+----+----+----+----+----+----+----+----+----+----+----+----+----+----+----+----+----+----+-----+----+-----+----+-----+----+-----+----+-----+----+-----+----+-----+----+---------+---------+------------+------+\n",
      "|       QB|  23|    5|  8|  17|    53|    16|   2|    2|   49|        2|4880|      9.5|2700| 9.5|2180|NULL|NULL|NULL|NULL|NULL|NULL|NULL|NULL|NULL|NULL|NULL|NULL|NULL|NULL|NULL|NULL| NULL|NULL| NULL|NULL| NULL|NULL| NULL|NULL| NULL|NULL| NULL|NULL| NULL|NULL|     NULL|   202305|           0|     0|\n",
      "|       QB|  23|    9| 13|  22|     6|    18|   1|    2|   46|        2|5760|      9.6|3080| 9.6|2680|NULL|NULL|NULL|NULL|NULL|NULL|NULL|NULL|NULL|NULL|NULL|NULL|NULL|NULL|NULL|NULL| NULL|NULL| NULL|NULL| NULL|NULL| NULL|NULL| NULL|NULL| NULL|NULL| NULL|NULL|     NULL|   202309|           0|     0|\n",
      "|       QB|  23|    8| 22|  16|     6|    24|   1|    2|   55|        2|5840|      9.2|3140| 9.2|2700|NULL|NULL|NULL|NULL|NULL|NULL|NULL|NULL|NULL|NULL|NULL|NULL|NULL|NULL|NULL|NULL| NULL|NULL| NULL|NULL| NULL|NULL| NULL|NULL| NULL|NULL| NULL|NULL| NULL|NULL|     NULL|   202308|           0|     0|\n",
      "|       QB|  23|   11| 27|   1|    27|    23|   1|    2|   45|        2|3760|      9.3|2240| 9.3|1520|NULL|NULL|NULL|NULL|NULL|NULL|NULL|NULL|NULL|NULL|NULL|NULL|NULL|NULL|NULL|NULL| NULL|NULL| NULL|NULL| NULL|NULL| NULL|NULL| NULL|NULL| NULL|NULL| NULL|NULL|     NULL|   202311|           0|     0|\n",
      "|       QB|  23|    8| 31|  17|    38|    47|   1|    3|   11|        2|5820|     12.6|3460|12.6|2360|NULL|NULL|NULL|NULL|NULL|NULL|NULL|NULL|NULL|NULL|NULL|NULL|NULL|NULL|NULL|NULL| NULL|NULL| NULL|NULL| NULL|NULL| NULL|NULL| NULL|NULL| NULL|NULL| NULL|NULL|     NULL|   202308|           0|     0|\n",
      "+---------+----+-----+---+----+------+------+----+-----+-----+---------+----+---------+----+----+----+----+----+----+----+----+----+----+----+----+----+----+----+----+----+----+----+-----+----+-----+----+-----+----+-----+----+-----+----+-----+----+-----+----+---------+---------+------------+------+\n",
      "only showing top 5 rows\n"
     ]
    }
   ],
   "source": [
    "#New column \"exceed_80000\" 1->exceeds 0-> doesnt, check if GVW exceed 80,000 lbs\n",
    "#If gvw 10% above limit then ticket is issued , marked as 1 in Ticket col\n",
    "df2 = spark.sql(\n",
    "    f\"\"\"\n",
    "        SELECT *, \n",
    "            CASE\n",
    "                WHEN gvw > 80000 THEN 1\n",
    "                ELSE 0\n",
    "            END AS exceed_80000,\n",
    "            CASE\n",
    "                WHEN gvw > 88000 THEN 1\n",
    "                ELSE 0\n",
    "            END AS Ticket\n",
    "    FROM table1\n",
    "    WHERE direction = 'QB'\n",
    "    \"\"\"\n",
    ")\n",
    "\n",
    "df2.show(5)"
   ]
  },
  {
   "cell_type": "code",
   "execution_count": 90,
   "id": "9f076240",
   "metadata": {},
   "outputs": [
    {
     "data": {
      "text/plain": [
       "461660"
      ]
     },
     "execution_count": 90,
     "metadata": {},
     "output_type": "execute_result"
    }
   ],
   "source": [
    "exceed_gvw_limit_19_23 = df2.filter(\"exceed_80000 ==  1\").count()\n",
    "\n",
    "exceed_gvw_limit_19_23\n",
    "#461,660 exceed 80,000 lb limit from 2019-2023"
   ]
  },
  {
   "cell_type": "code",
   "execution_count": 91,
   "id": "3f0751b9",
   "metadata": {},
   "outputs": [
    {
     "data": {
      "text/plain": [
       "205233"
      ]
     },
     "execution_count": 91,
     "metadata": {},
     "output_type": "execute_result"
    }
   ],
   "source": [
    "exceed_gvw_limit_19_23_ticket_count = df2.filter(\"Ticket ==  1\").count()\n",
    "\n",
    "exceed_gvw_limit_19_23_ticket_count\n",
    "#205,233 Tickets issued for GVW > 88000 lb"
   ]
  },
  {
   "cell_type": "code",
   "execution_count": 92,
   "id": "050878ed",
   "metadata": {},
   "outputs": [],
   "source": [
    "df2.createOrReplaceTempView(\"table2\")"
   ]
  },
  {
   "cell_type": "code",
   "execution_count": 93,
   "id": "879c22ac",
   "metadata": {},
   "outputs": [
    {
     "name": "stdout",
     "output_type": "stream",
     "text": [
      "+---------+----+-----+---+----+------+------+----+-----+-----+---------+----+---------+----+----+----+----+----+----+----+----+----+----+----+----+----+----+----+----+----+----+----+-----+----+-----+----+-----+----+-----+----+-----+----+-----+----+-----+----+---------+---------+------------+------------+------+\n",
      "|direction|year|month|day|hour|minute|second|lane|class|speed|num_axles| gvw|wheelbase| wt1|spc1| wt2|spc2| wt3|spc3| wt4|spc4| wt5|spc5| wt6|spc6| wt7|spc7| wt8|spc8| wt9|spc9|wt10|spc10|wt11|spc11|wt12|spc12|wt13|spc13|wt14|spc14|wt15|spc15|wt16|spc16|wt17|dirtravel|yearmonth|exceed_80000|exceed_22400|Ticket|\n",
      "+---------+----+-----+---+----+------+------+----+-----+-----+---------+----+---------+----+----+----+----+----+----+----+----+----+----+----+----+----+----+----+----+----+----+----+-----+----+-----+----+-----+----+-----+----+-----+----+-----+----+-----+----+---------+---------+------------+------------+------+\n",
      "|       QB|  23|    5|  8|  17|    53|    16|   2|    2|   49|        2|4880|      9.5|2700| 9.5|2180|NULL|NULL|NULL|NULL|NULL|NULL|NULL|NULL|NULL|NULL|NULL|NULL|NULL|NULL|NULL|NULL| NULL|NULL| NULL|NULL| NULL|NULL| NULL|NULL| NULL|NULL| NULL|NULL| NULL|NULL|     NULL|   202305|           0|           0|     0|\n",
      "|       QB|  23|    9| 13|  22|     6|    18|   1|    2|   46|        2|5760|      9.6|3080| 9.6|2680|NULL|NULL|NULL|NULL|NULL|NULL|NULL|NULL|NULL|NULL|NULL|NULL|NULL|NULL|NULL|NULL| NULL|NULL| NULL|NULL| NULL|NULL| NULL|NULL| NULL|NULL| NULL|NULL| NULL|NULL|     NULL|   202309|           0|           0|     0|\n",
      "|       QB|  23|    8| 22|  16|     6|    24|   1|    2|   55|        2|5840|      9.2|3140| 9.2|2700|NULL|NULL|NULL|NULL|NULL|NULL|NULL|NULL|NULL|NULL|NULL|NULL|NULL|NULL|NULL|NULL| NULL|NULL| NULL|NULL| NULL|NULL| NULL|NULL| NULL|NULL| NULL|NULL| NULL|NULL|     NULL|   202308|           0|           0|     0|\n",
      "|       QB|  23|   11| 27|   1|    27|    23|   1|    2|   45|        2|3760|      9.3|2240| 9.3|1520|NULL|NULL|NULL|NULL|NULL|NULL|NULL|NULL|NULL|NULL|NULL|NULL|NULL|NULL|NULL|NULL| NULL|NULL| NULL|NULL| NULL|NULL| NULL|NULL| NULL|NULL| NULL|NULL| NULL|NULL|     NULL|   202311|           0|           0|     0|\n",
      "|       QB|  23|    8| 31|  17|    38|    47|   1|    3|   11|        2|5820|     12.6|3460|12.6|2360|NULL|NULL|NULL|NULL|NULL|NULL|NULL|NULL|NULL|NULL|NULL|NULL|NULL|NULL|NULL|NULL| NULL|NULL| NULL|NULL| NULL|NULL| NULL|NULL| NULL|NULL| NULL|NULL| NULL|NULL|     NULL|   202308|           0|           0|     0|\n",
      "+---------+----+-----+---+----+------+------+----+-----+-----+---------+----+---------+----+----+----+----+----+----+----+----+----+----+----+----+----+----+----+----+----+----+----+-----+----+-----+----+-----+----+-----+----+-----+----+-----+----+-----+----+---------+---------+------------+------------+------+\n",
      "only showing top 5 rows\n"
     ]
    }
   ],
   "source": [
    "#If any single axle load is > 22400 lb weight is non-compliant marked as 1 in col: exceed_22400\n",
    "#If any single axle load is > 24,640 lb col Ticket = 1\n",
    "\n",
    "df3 = spark.sql(\n",
    "    \"\"\" \n",
    "        SELECT * EXCEPT (Ticket), \n",
    "            CASE\n",
    "                WHEN GREATEST(\n",
    "                    wt1, wt2, wt3, wt4, wt5, wt6, wt7, wt8, \n",
    "                    wt9, wt10, wt11, wt12, wt13, wt14, wt15, wt16, wt17\n",
    "                ) > 22400 THEN 1\n",
    "                ELSE 0\n",
    "            END AS exceed_22400,\n",
    "            CASE\n",
    "                WHEN GREATEST(\n",
    "                    wt1, wt2, wt3, wt4, wt5, wt6, wt7, wt8, \n",
    "                    wt9, wt10, wt11, wt12, wt13, wt14, wt15, wt16, wt17\n",
    "                ) > 24640 THEN 1\n",
    "                ELSE Ticket  \n",
    "            END AS Ticket\n",
    "        FROM table2\n",
    "        WHERE direction = 'QB'\n",
    "    \"\"\"\n",
    ")\n",
    "\n",
    "df3.show(5)"
   ]
  },
  {
   "cell_type": "code",
   "execution_count": 94,
   "id": "144fe317",
   "metadata": {},
   "outputs": [
    {
     "data": {
      "text/plain": [
       "250157"
      ]
     },
     "execution_count": 94,
     "metadata": {},
     "output_type": "execute_result"
    }
   ],
   "source": [
    "exceed_1axle_limit_19_23 = df3.filter(\"exceed_22400 ==  1\").count()\n",
    "\n",
    "exceed_1axle_limit_19_23\n",
    "#250,157 exceed 22400 lb one axle wt limit from 2019-2023"
   ]
  },
  {
   "cell_type": "code",
   "execution_count": 96,
   "id": "c1960017",
   "metadata": {},
   "outputs": [
    {
     "data": {
      "text/plain": [
       "89659"
      ]
     },
     "execution_count": 96,
     "metadata": {},
     "output_type": "execute_result"
    }
   ],
   "source": [
    "exceed_1axle_limit_19_23_ticket_count = df3.filter(\"Ticket ==  1\").count() - exceed_gvw_limit_19_23_ticket_count \n",
    "\n",
    "exceed_1axle_limit_19_23_ticket_count\n",
    "#205,233 Tickets issued for GVW > 88000 lb\n",
    "#89,659 Tickets issued for single axle overload"
   ]
  },
  {
   "cell_type": "code",
   "execution_count": 97,
   "id": "1cfa211a",
   "metadata": {},
   "outputs": [],
   "source": [
    "df3.createOrReplaceTempView(\"table3\")"
   ]
  },
  {
   "cell_type": "code",
   "execution_count": 98,
   "id": "03e591fb",
   "metadata": {},
   "outputs": [
    {
     "name": "stdout",
     "output_type": "stream",
     "text": [
      "+---------+----+-----+---+----+------+------+----+-----+-----+---------+----+---------+----+----+----+----+----+----+----+----+----+----+----+----+----+----+----+----+----+----+----+-----+----+-----+----+-----+----+-----+----+-----+----+-----+----+-----+----+---------+---------+------------+------------+------+-------------+\n",
      "|direction|year|month|day|hour|minute|second|lane|class|speed|num_axles| gvw|wheelbase| wt1|spc1| wt2|spc2| wt3|spc3| wt4|spc4| wt5|spc5| wt6|spc6| wt7|spc7| wt8|spc8| wt9|spc9|wt10|spc10|wt11|spc11|wt12|spc12|wt13|spc13|wt14|spc14|wt15|spc15|wt16|spc16|wt17|dirtravel|yearmonth|exceed_80000|exceed_22400|Ticket|check_spacing|\n",
      "+---------+----+-----+---+----+------+------+----+-----+-----+---------+----+---------+----+----+----+----+----+----+----+----+----+----+----+----+----+----+----+----+----+----+----+-----+----+-----+----+-----+----+-----+----+-----+----+-----+----+-----+----+---------+---------+------------+------------+------+-------------+\n",
      "|       QB|  23|    5|  8|  17|    53|    16|   2|    2|   49|        2|4880|      9.5|2700| 9.5|2180|NULL|NULL|NULL|NULL|NULL|NULL|NULL|NULL|NULL|NULL|NULL|NULL|NULL|NULL|NULL|NULL| NULL|NULL| NULL|NULL| NULL|NULL| NULL|NULL| NULL|NULL| NULL|NULL| NULL|NULL|     NULL|   202305|           0|           0|     0|            0|\n",
      "|       QB|  23|    9| 13|  22|     6|    18|   1|    2|   46|        2|5760|      9.6|3080| 9.6|2680|NULL|NULL|NULL|NULL|NULL|NULL|NULL|NULL|NULL|NULL|NULL|NULL|NULL|NULL|NULL|NULL| NULL|NULL| NULL|NULL| NULL|NULL| NULL|NULL| NULL|NULL| NULL|NULL| NULL|NULL|     NULL|   202309|           0|           0|     0|            0|\n",
      "|       QB|  23|    8| 22|  16|     6|    24|   1|    2|   55|        2|5840|      9.2|3140| 9.2|2700|NULL|NULL|NULL|NULL|NULL|NULL|NULL|NULL|NULL|NULL|NULL|NULL|NULL|NULL|NULL|NULL| NULL|NULL| NULL|NULL| NULL|NULL| NULL|NULL| NULL|NULL| NULL|NULL| NULL|NULL|     NULL|   202308|           0|           0|     0|            0|\n",
      "|       QB|  23|   11| 27|   1|    27|    23|   1|    2|   45|        2|3760|      9.3|2240| 9.3|1520|NULL|NULL|NULL|NULL|NULL|NULL|NULL|NULL|NULL|NULL|NULL|NULL|NULL|NULL|NULL|NULL| NULL|NULL| NULL|NULL| NULL|NULL| NULL|NULL| NULL|NULL| NULL|NULL| NULL|NULL|     NULL|   202311|           0|           0|     0|            0|\n",
      "|       QB|  23|    8| 31|  17|    38|    47|   1|    3|   11|        2|5820|     12.6|3460|12.6|2360|NULL|NULL|NULL|NULL|NULL|NULL|NULL|NULL|NULL|NULL|NULL|NULL|NULL|NULL|NULL|NULL| NULL|NULL| NULL|NULL| NULL|NULL| NULL|NULL| NULL|NULL| NULL|NULL| NULL|NULL|     NULL|   202308|           0|           0|     0|            0|\n",
      "+---------+----+-----+---+----+------+------+----+-----+-----+---------+----+---------+----+----+----+----+----+----+----+----+----+----+----+----+----+----+----+----+----+----+----+-----+----+-----+----+-----+----+-----+----+-----+----+-----+----+-----+----+---------+---------+------------+------------+------+-------------+\n",
      "only showing top 5 rows\n"
     ]
    }
   ],
   "source": [
    "#data spacing units are in meters\n",
    "#Spacing requirement made for any two axles with  54\" < spacing < 120\"  approx 1.37 meters < s < 3.05 meters\n",
    "\n",
    "spc_conditions = \" OR \".join([f\"(spc{i} >= 1.37 AND spc{i} <= 3.05)\" for i in range(1, 17)])\n",
    "\n",
    "df4 = spark.sql(f\"\"\"\n",
    "    SELECT *,\n",
    "        CASE \n",
    "            WHEN {spc_conditions} THEN 1 \n",
    "            ELSE 0 \n",
    "        END AS check_spacing\n",
    "    FROM table3\n",
    "    WHERE direction = 'QB'\n",
    "\"\"\")\n",
    "\n",
    "df4.show(5)\n"
   ]
  },
  {
   "cell_type": "code",
   "execution_count": 99,
   "id": "27a47c9c",
   "metadata": {},
   "outputs": [
    {
     "data": {
      "text/plain": [
       "26348"
      ]
     },
     "execution_count": 99,
     "metadata": {},
     "output_type": "execute_result"
    }
   ],
   "source": [
    "spc_2axle_loading_case_count_19_23 = df4.filter(\"check_spacing == 1\").count()\n",
    "\n",
    "spc_2axle_loading_case_count_19_23\n",
    "#26,348 vehicles that have at least 1 pair of axles with spacing 1.34 < s < 3.05"
   ]
  },
  {
   "cell_type": "code",
   "execution_count": 100,
   "id": "33ccc30d",
   "metadata": {},
   "outputs": [],
   "source": [
    "df4.createOrReplaceTempView(\"table4\")"
   ]
  },
  {
   "cell_type": "code",
   "execution_count": 101,
   "id": "2e43611b",
   "metadata": {},
   "outputs": [
    {
     "name": "stdout",
     "output_type": "stream",
     "text": [
      "+---------+----+-----+---+----+------+------+----+-----+-----+---------+----+---------+----+----+----+----+----+----+----+----+----+----+----+----+----+----+----+----+----+----+----+-----+----+-----+----+-----+----+-----+----+-----+----+-----+----+-----+----+---------+---------+------------+------------+-------------+------------------+------+\n",
      "|direction|year|month|day|hour|minute|second|lane|class|speed|num_axles| gvw|wheelbase| wt1|spc1| wt2|spc2| wt3|spc3| wt4|spc4| wt5|spc5| wt6|spc6| wt7|spc7| wt8|spc8| wt9|spc9|wt10|spc10|wt11|spc11|wt12|spc12|wt13|spc13|wt14|spc14|wt15|spc15|wt16|spc16|wt17|dirtravel|yearmonth|exceed_80000|exceed_22400|check_spacing|2axle_exceed_36000|Ticket|\n",
      "+---------+----+-----+---+----+------+------+----+-----+-----+---------+----+---------+----+----+----+----+----+----+----+----+----+----+----+----+----+----+----+----+----+----+----+-----+----+-----+----+-----+----+-----+----+-----+----+-----+----+-----+----+---------+---------+------------+------------+-------------+------------------+------+\n",
      "|       QB|  23|    5|  8|  17|    53|    16|   2|    2|   49|        2|4880|      9.5|2700| 9.5|2180|NULL|NULL|NULL|NULL|NULL|NULL|NULL|NULL|NULL|NULL|NULL|NULL|NULL|NULL|NULL|NULL| NULL|NULL| NULL|NULL| NULL|NULL| NULL|NULL| NULL|NULL| NULL|NULL| NULL|NULL|     NULL|   202305|           0|           0|            0|                 0|     0|\n",
      "|       QB|  23|    9| 13|  22|     6|    18|   1|    2|   46|        2|5760|      9.6|3080| 9.6|2680|NULL|NULL|NULL|NULL|NULL|NULL|NULL|NULL|NULL|NULL|NULL|NULL|NULL|NULL|NULL|NULL| NULL|NULL| NULL|NULL| NULL|NULL| NULL|NULL| NULL|NULL| NULL|NULL| NULL|NULL|     NULL|   202309|           0|           0|            0|                 0|     0|\n",
      "|       QB|  23|    8| 22|  16|     6|    24|   1|    2|   55|        2|5840|      9.2|3140| 9.2|2700|NULL|NULL|NULL|NULL|NULL|NULL|NULL|NULL|NULL|NULL|NULL|NULL|NULL|NULL|NULL|NULL| NULL|NULL| NULL|NULL| NULL|NULL| NULL|NULL| NULL|NULL| NULL|NULL| NULL|NULL|     NULL|   202308|           0|           0|            0|                 0|     0|\n",
      "|       QB|  23|   11| 27|   1|    27|    23|   1|    2|   45|        2|3760|      9.3|2240| 9.3|1520|NULL|NULL|NULL|NULL|NULL|NULL|NULL|NULL|NULL|NULL|NULL|NULL|NULL|NULL|NULL|NULL| NULL|NULL| NULL|NULL| NULL|NULL| NULL|NULL| NULL|NULL| NULL|NULL| NULL|NULL|     NULL|   202311|           0|           0|            0|                 0|     0|\n",
      "|       QB|  23|    8| 31|  17|    38|    47|   1|    3|   11|        2|5820|     12.6|3460|12.6|2360|NULL|NULL|NULL|NULL|NULL|NULL|NULL|NULL|NULL|NULL|NULL|NULL|NULL|NULL|NULL|NULL| NULL|NULL| NULL|NULL| NULL|NULL| NULL|NULL| NULL|NULL| NULL|NULL| NULL|NULL|     NULL|   202308|           0|           0|            0|                 0|     0|\n",
      "+---------+----+-----+---+----+------+------+----+-----+-----+---------+----+---------+----+----+----+----+----+----+----+----+----+----+----+----+----+----+----+----+----+----+----+-----+----+-----+----+-----+----+-----+----+-----+----+-----+----+-----+----+---------+---------+------------+------------+-------------+------------------+------+\n",
      "only showing top 5 rows\n"
     ]
    }
   ],
   "source": [
    "pair_conditions = \" OR \".join([f\"(wt{i} + wt{i+1} > 36000)\" for i in range(1, 15)])\n",
    "pair_conditions2 = \" OR \".join([f\"(wt{i} + wt{i+1} > 39600)\" for i in range(1, 15)])\n",
    "\n",
    "df5 = spark.sql(f\"\"\"\n",
    "    SELECT * EXCEPT (Ticket),\n",
    "        CASE \n",
    "            WHEN check_spacing = 1 AND ({pair_conditions}) THEN 1 \n",
    "            ELSE 0 \n",
    "        END AS 2axle_exceed_36000,\n",
    "        CASE \n",
    "            WHEN check_spacing = 1 AND ({pair_conditions2}) THEN 1 \n",
    "            ELSE Ticket \n",
    "        END AS Ticket\n",
    "    FROM table4\n",
    "\"\"\")\n",
    "\n",
    "df5.show(5)"
   ]
  },
  {
   "cell_type": "code",
   "execution_count": 102,
   "id": "dc08f90f",
   "metadata": {},
   "outputs": [
    {
     "data": {
      "text/plain": [
       "559"
      ]
     },
     "execution_count": 102,
     "metadata": {},
     "output_type": "execute_result"
    }
   ],
   "source": [
    "exceed_2axle_limit_19_23 = df5.filter(\"2axle_exceed_36000 ==  1\").count()\n",
    "\n",
    "exceed_2axle_limit_19_23\n",
    "#559 vehicles exceeded load req on at least 1 pair of axles with load > 36,000"
   ]
  },
  {
   "cell_type": "code",
   "execution_count": 103,
   "id": "2493d847",
   "metadata": {},
   "outputs": [
    {
     "data": {
      "text/plain": [
       "48"
      ]
     },
     "execution_count": 103,
     "metadata": {},
     "output_type": "execute_result"
    }
   ],
   "source": [
    "exceed_2axle_limit_19_23_ticket_count = df5.filter(\"Ticket ==  1\").count() - exceed_1axle_limit_19_23_ticket_count - exceed_gvw_limit_19_23_ticket_count\n",
    "\n",
    "exceed_2axle_limit_19_23_ticket_count\n",
    "#294,940 total tickets\n",
    "#205,233 Tickets issued for GVW > 88000 lb\n",
    "#89,659 Tickets issued for single axle overload\n",
    "#48 Tickets issued for 2axle load  > 39,600 lb"
   ]
  },
  {
   "cell_type": "code",
   "execution_count": 104,
   "id": "67587a33",
   "metadata": {},
   "outputs": [],
   "source": [
    "df5.createOrReplaceTempView(\"table5\")"
   ]
  },
  {
   "cell_type": "code",
   "execution_count": 105,
   "id": "ae06168c",
   "metadata": {},
   "outputs": [
    {
     "name": "stdout",
     "output_type": "stream",
     "text": [
      "+---------+----+-----+---+----+------+------+----+-----+-----+---------+----+---------+----+----+----+----+----+----+----+----+----+----+----+----+----+----+----+----+----+----+----+-----+----+-----+----+-----+----+-----+----+-----+----+-----+----+-----+----+---------+---------+------------+------------+-------------+------------------+------+---------+\n",
      "|direction|year|month|day|hour|minute|second|lane|class|speed|num_axles| gvw|wheelbase| wt1|spc1| wt2|spc2| wt3|spc3| wt4|spc4| wt5|spc5| wt6|spc6| wt7|spc7| wt8|spc8| wt9|spc9|wt10|spc10|wt11|spc11|wt12|spc12|wt13|spc13|wt14|spc14|wt15|spc15|wt16|spc16|wt17|dirtravel|yearmonth|exceed_80000|exceed_22400|check_spacing|2axle_exceed_36000|Ticket|compliant|\n",
      "+---------+----+-----+---+----+------+------+----+-----+-----+---------+----+---------+----+----+----+----+----+----+----+----+----+----+----+----+----+----+----+----+----+----+----+-----+----+-----+----+-----+----+-----+----+-----+----+-----+----+-----+----+---------+---------+------------+------------+-------------+------------------+------+---------+\n",
      "|       QB|  23|    5|  8|  17|    53|    16|   2|    2|   49|        2|4880|      9.5|2700| 9.5|2180|NULL|NULL|NULL|NULL|NULL|NULL|NULL|NULL|NULL|NULL|NULL|NULL|NULL|NULL|NULL|NULL| NULL|NULL| NULL|NULL| NULL|NULL| NULL|NULL| NULL|NULL| NULL|NULL| NULL|NULL|     NULL|   202305|           0|           0|            0|                 0|     0|        1|\n",
      "|       QB|  23|    9| 13|  22|     6|    18|   1|    2|   46|        2|5760|      9.6|3080| 9.6|2680|NULL|NULL|NULL|NULL|NULL|NULL|NULL|NULL|NULL|NULL|NULL|NULL|NULL|NULL|NULL|NULL| NULL|NULL| NULL|NULL| NULL|NULL| NULL|NULL| NULL|NULL| NULL|NULL| NULL|NULL|     NULL|   202309|           0|           0|            0|                 0|     0|        1|\n",
      "|       QB|  23|    8| 22|  16|     6|    24|   1|    2|   55|        2|5840|      9.2|3140| 9.2|2700|NULL|NULL|NULL|NULL|NULL|NULL|NULL|NULL|NULL|NULL|NULL|NULL|NULL|NULL|NULL|NULL| NULL|NULL| NULL|NULL| NULL|NULL| NULL|NULL| NULL|NULL| NULL|NULL| NULL|NULL|     NULL|   202308|           0|           0|            0|                 0|     0|        1|\n",
      "|       QB|  23|   11| 27|   1|    27|    23|   1|    2|   45|        2|3760|      9.3|2240| 9.3|1520|NULL|NULL|NULL|NULL|NULL|NULL|NULL|NULL|NULL|NULL|NULL|NULL|NULL|NULL|NULL|NULL| NULL|NULL| NULL|NULL| NULL|NULL| NULL|NULL| NULL|NULL| NULL|NULL| NULL|NULL|     NULL|   202311|           0|           0|            0|                 0|     0|        1|\n",
      "|       QB|  23|    8| 31|  17|    38|    47|   1|    3|   11|        2|5820|     12.6|3460|12.6|2360|NULL|NULL|NULL|NULL|NULL|NULL|NULL|NULL|NULL|NULL|NULL|NULL|NULL|NULL|NULL|NULL| NULL|NULL| NULL|NULL| NULL|NULL| NULL|NULL| NULL|NULL| NULL|NULL| NULL|NULL|     NULL|   202308|           0|           0|            0|                 0|     0|        1|\n",
      "+---------+----+-----+---+----+------+------+----+-----+-----+---------+----+---------+----+----+----+----+----+----+----+----+----+----+----+----+----+----+----+----+----+----+----+-----+----+-----+----+-----+----+-----+----+-----+----+-----+----+-----+----+---------+---------+------------+------------+-------------+------------------+------+---------+\n",
      "only showing top 5 rows\n"
     ]
    }
   ],
   "source": [
    "#Creating compliant col , compliant = 1 non-compliant = 0\n",
    "df6 = spark.sql(\n",
    "    \"\"\" \n",
    "    SELECT *,\n",
    "        CASE \n",
    "            WHEN exceed_80000 == 1 OR exceed_22400 == 1 OR 2axle_exceed_36000 == 1 THEN 0\n",
    "            ELSE 1\n",
    "        END AS compliant\n",
    "    FROM table5\n",
    "    \"\"\"\n",
    ")\n",
    "\n",
    "df6.show(5)"
   ]
  },
  {
   "cell_type": "code",
   "execution_count": 106,
   "id": "508ec1e8",
   "metadata": {},
   "outputs": [
    {
     "data": {
      "text/plain": [
       "67405105"
      ]
     },
     "execution_count": 106,
     "metadata": {},
     "output_type": "execute_result"
    }
   ],
   "source": [
    "compliant_count_19_23 = df6.filter(\"compliant == 1\").count()\n",
    "\n",
    "compliant_count_19_23\n",
    "#67,405,105 compliant vehicles"
   ]
  },
  {
   "cell_type": "code",
   "execution_count": 107,
   "id": "357d7c9d",
   "metadata": {},
   "outputs": [
    {
     "data": {
      "text/plain": [
       "630853"
      ]
     },
     "execution_count": 107,
     "metadata": {},
     "output_type": "execute_result"
    }
   ],
   "source": [
    "non_compliant_count_19_23 = df6.filter(\"compliant == 0\").count()\n",
    "\n",
    "non_compliant_count_19_23\n",
    "#630,853 non-compliant vehicles"
   ]
  },
  {
   "cell_type": "code",
   "execution_count": 108,
   "id": "f022f3e8",
   "metadata": {},
   "outputs": [],
   "source": [
    "spark.stop() #Dont forget to end session"
   ]
  },
  {
   "cell_type": "markdown",
   "id": "889905e5",
   "metadata": {},
   "source": [
    "Present (2024-2025)"
   ]
  },
  {
   "cell_type": "code",
   "execution_count": 109,
   "id": "c1fcc20b",
   "metadata": {},
   "outputs": [
    {
     "name": "stdout",
     "output_type": "stream",
     "text": [
      "Spark is running. Don't forget to stop session to terminate background java process!\n"
     ]
    }
   ],
   "source": [
    "from pyspark.sql import SparkSession\n",
    "\n",
    "spark = SparkSession.builder \\\n",
    "    .appName(\"Capstone_Data\") \\\n",
    "    .master(\"local[*]\") \\\n",
    "    .getOrCreate()\n",
    "print(\"Spark is running. Don't forget to stop session to terminate background java process!\")"
   ]
  },
  {
   "cell_type": "code",
   "execution_count": 110,
   "id": "d36bfc5e",
   "metadata": {},
   "outputs": [
    {
     "name": "stderr",
     "output_type": "stream",
     "text": [
      "<>:1: SyntaxWarning: invalid escape sequence '\\R'\n",
      "<>:1: SyntaxWarning: invalid escape sequence '\\R'\n",
      "C:\\Users\\rubie\\AppData\\Local\\Temp\\ipykernel_9804\\3273418509.py:1: SyntaxWarning: invalid escape sequence '\\R'\n",
      "  df = spark.read.csv(\"Data\\Raw_Data\\Weigh_in_Motion_24_25.csv\", header=True, inferSchema=True)\n"
     ]
    },
    {
     "name": "stdout",
     "output_type": "stream",
     "text": [
      "+---------+----+-----+---+----+------+------+----+-----+-----+---------+-----+---------+----+----+-----+----+----+----+----+----+----+----+----+----+----+----+----+----+----+----+----+-----+----+-----+----+-----+----+-----+----+-----+----+-----+----+-----+----+---------+---------+\n",
      "|direction|year|month|day|hour|minute|second|lane|class|speed|num_axles|  gvw|wheelbase| wt1|spc1|  wt2|spc2| wt3|spc3| wt4|spc4| wt5|spc5| wt6|spc6| wt7|spc7| wt8|spc8| wt9|spc9|wt10|spc10|wt11|spc11|wt12|spc12|wt13|spc13|wt14|spc14|wt15|spc15|wt16|spc16|wt17|dirtravel|yearmonth|\n",
      "+---------+----+-----+---+----+------+------+----+-----+-----+---------+-----+---------+----+----+-----+----+----+----+----+----+----+----+----+----+----+----+----+----+----+----+----+-----+----+-----+----+-----+----+-----+----+-----+----+-----+----+-----+----+---------+---------+\n",
      "|       QB|  24|    8| 26|   6|    30|    55|   2|    2|   52|        2| 4400|      9.4|2600| 9.4| 1800|NULL|NULL|NULL|NULL|NULL|NULL|NULL|NULL|NULL|NULL|NULL|NULL|NULL|NULL|NULL|NULL| NULL|NULL| NULL|NULL| NULL|NULL| NULL|NULL| NULL|NULL| NULL|NULL| NULL|NULL|     NULL|   202408|\n",
      "|       QB|  24|    1| 20|  15|    29|    21|   1|    2|   38|        2| 4260|      9.4|2260| 9.4| 2000|NULL|NULL|NULL|NULL|NULL|NULL|NULL|NULL|NULL|NULL|NULL|NULL|NULL|NULL|NULL|NULL| NULL|NULL| NULL|NULL| NULL|NULL| NULL|NULL| NULL|NULL| NULL|NULL| NULL|NULL|     NULL|   202401|\n",
      "|       QB|  24|    8| 14|  17|    12|    49|   2|    2|   51|        2| 5580|     10.0|2680|10.0| 2900|NULL|NULL|NULL|NULL|NULL|NULL|NULL|NULL|NULL|NULL|NULL|NULL|NULL|NULL|NULL|NULL| NULL|NULL| NULL|NULL| NULL|NULL| NULL|NULL| NULL|NULL| NULL|NULL| NULL|NULL|     NULL|   202408|\n",
      "|       QB|  24|    4|  1|   9|    14|    12|   1|    5|   43|        2|21700|     17.8|6720|17.8|14980|NULL|NULL|NULL|NULL|NULL|NULL|NULL|NULL|NULL|NULL|NULL|NULL|NULL|NULL|NULL|NULL| NULL|NULL| NULL|NULL| NULL|NULL| NULL|NULL| NULL|NULL| NULL|NULL| NULL|NULL|     NULL|   202404|\n",
      "|       QB|  24|    8|  5|  18|    48|    29|   2|    3|   48|        2| 6300|     11.7|3540|11.7| 2760|NULL|NULL|NULL|NULL|NULL|NULL|NULL|NULL|NULL|NULL|NULL|NULL|NULL|NULL|NULL|NULL| NULL|NULL| NULL|NULL| NULL|NULL| NULL|NULL| NULL|NULL| NULL|NULL| NULL|NULL|     NULL|   202408|\n",
      "+---------+----+-----+---+----+------+------+----+-----+-----+---------+-----+---------+----+----+-----+----+----+----+----+----+----+----+----+----+----+----+----+----+----+----+----+-----+----+-----+----+-----+----+-----+----+-----+----+-----+----+-----+----+---------+---------+\n",
      "only showing top 5 rows\n"
     ]
    }
   ],
   "source": [
    "df = spark.read.csv(\"Data\\Raw_Data\\Weigh_in_Motion_24_25.csv\", header=True, inferSchema=True)\n",
    "df.show(5)"
   ]
  },
  {
   "cell_type": "code",
   "execution_count": 111,
   "id": "e1d6f838",
   "metadata": {},
   "outputs": [],
   "source": [
    "df.createOrReplaceTempView(\"table1\")"
   ]
  },
  {
   "cell_type": "code",
   "execution_count": 112,
   "id": "a0520a89",
   "metadata": {},
   "outputs": [
    {
     "name": "stdout",
     "output_type": "stream",
     "text": [
      "+---------+----+-----+---+----+------+------+----+-----+-----+---------+-----+---------+----+----+-----+----+----+----+----+----+----+----+----+----+----+----+----+----+----+----+----+-----+----+-----+----+-----+----+-----+----+-----+----+-----+----+-----+----+---------+---------+------------+------+\n",
      "|direction|year|month|day|hour|minute|second|lane|class|speed|num_axles|  gvw|wheelbase| wt1|spc1|  wt2|spc2| wt3|spc3| wt4|spc4| wt5|spc5| wt6|spc6| wt7|spc7| wt8|spc8| wt9|spc9|wt10|spc10|wt11|spc11|wt12|spc12|wt13|spc13|wt14|spc14|wt15|spc15|wt16|spc16|wt17|dirtravel|yearmonth|exceed_80000|Ticket|\n",
      "+---------+----+-----+---+----+------+------+----+-----+-----+---------+-----+---------+----+----+-----+----+----+----+----+----+----+----+----+----+----+----+----+----+----+----+----+-----+----+-----+----+-----+----+-----+----+-----+----+-----+----+-----+----+---------+---------+------------+------+\n",
      "|       QB|  24|    8| 26|   6|    30|    55|   2|    2|   52|        2| 4400|      9.4|2600| 9.4| 1800|NULL|NULL|NULL|NULL|NULL|NULL|NULL|NULL|NULL|NULL|NULL|NULL|NULL|NULL|NULL|NULL| NULL|NULL| NULL|NULL| NULL|NULL| NULL|NULL| NULL|NULL| NULL|NULL| NULL|NULL|     NULL|   202408|           0|     0|\n",
      "|       QB|  24|    1| 20|  15|    29|    21|   1|    2|   38|        2| 4260|      9.4|2260| 9.4| 2000|NULL|NULL|NULL|NULL|NULL|NULL|NULL|NULL|NULL|NULL|NULL|NULL|NULL|NULL|NULL|NULL| NULL|NULL| NULL|NULL| NULL|NULL| NULL|NULL| NULL|NULL| NULL|NULL| NULL|NULL|     NULL|   202401|           0|     0|\n",
      "|       QB|  24|    8| 14|  17|    12|    49|   2|    2|   51|        2| 5580|     10.0|2680|10.0| 2900|NULL|NULL|NULL|NULL|NULL|NULL|NULL|NULL|NULL|NULL|NULL|NULL|NULL|NULL|NULL|NULL| NULL|NULL| NULL|NULL| NULL|NULL| NULL|NULL| NULL|NULL| NULL|NULL| NULL|NULL|     NULL|   202408|           0|     0|\n",
      "|       QB|  24|    4|  1|   9|    14|    12|   1|    5|   43|        2|21700|     17.8|6720|17.8|14980|NULL|NULL|NULL|NULL|NULL|NULL|NULL|NULL|NULL|NULL|NULL|NULL|NULL|NULL|NULL|NULL| NULL|NULL| NULL|NULL| NULL|NULL| NULL|NULL| NULL|NULL| NULL|NULL| NULL|NULL|     NULL|   202404|           0|     0|\n",
      "|       QB|  24|    8|  5|  18|    48|    29|   2|    3|   48|        2| 6300|     11.7|3540|11.7| 2760|NULL|NULL|NULL|NULL|NULL|NULL|NULL|NULL|NULL|NULL|NULL|NULL|NULL|NULL|NULL|NULL| NULL|NULL| NULL|NULL| NULL|NULL| NULL|NULL| NULL|NULL| NULL|NULL| NULL|NULL|     NULL|   202408|           0|     0|\n",
      "+---------+----+-----+---+----+------+------+----+-----+-----+---------+-----+---------+----+----+-----+----+----+----+----+----+----+----+----+----+----+----+----+----+----+----+----+-----+----+-----+----+-----+----+-----+----+-----+----+-----+----+-----+----+---------+---------+------------+------+\n",
      "only showing top 5 rows\n"
     ]
    }
   ],
   "source": [
    "#New column \"exceed_80000\" 1->exceeds 0-> doesnt, check if GVW exceed 80,000 lbs\n",
    "#If gvw 10% above limit then ticket is issued , marked as 1 in Ticket col\n",
    "df2 = spark.sql(\n",
    "    f\"\"\"\n",
    "        SELECT *, \n",
    "            CASE\n",
    "                WHEN gvw > 80000 THEN 1\n",
    "                ELSE 0\n",
    "            END AS exceed_80000,\n",
    "            CASE\n",
    "                WHEN gvw > 88000 THEN 1\n",
    "                ELSE 0\n",
    "            END AS Ticket\n",
    "    FROM table1\n",
    "    WHERE direction = 'QB'\n",
    "    \"\"\"\n",
    ")\n",
    "\n",
    "df2.show(5)"
   ]
  },
  {
   "cell_type": "code",
   "execution_count": 113,
   "id": "03ab02eb",
   "metadata": {},
   "outputs": [
    {
     "data": {
      "text/plain": [
       "26416"
      ]
     },
     "execution_count": 113,
     "metadata": {},
     "output_type": "execute_result"
    }
   ],
   "source": [
    "exceed_gvw_limit_24_25 = df2.filter(\"exceed_80000 ==  1\").count()\n",
    "\n",
    "exceed_gvw_limit_24_25\n",
    "#26,416 exceed 80,000 lb limit from 2024-2025"
   ]
  },
  {
   "cell_type": "code",
   "execution_count": 114,
   "id": "c64e4325",
   "metadata": {},
   "outputs": [
    {
     "data": {
      "text/plain": [
       "4951"
      ]
     },
     "execution_count": 114,
     "metadata": {},
     "output_type": "execute_result"
    }
   ],
   "source": [
    "exceed_gvw_limit_24_25_ticket_count = df2.filter(\"Ticket ==  1\").count()\n",
    "\n",
    "exceed_gvw_limit_24_25_ticket_count\n",
    "#4,951 Tickets issued for GVW > 88000 lb"
   ]
  },
  {
   "cell_type": "code",
   "execution_count": 115,
   "id": "34784704",
   "metadata": {},
   "outputs": [],
   "source": [
    "df2.createOrReplaceTempView(\"table2\")"
   ]
  },
  {
   "cell_type": "code",
   "execution_count": 116,
   "id": "6dbda116",
   "metadata": {},
   "outputs": [
    {
     "name": "stdout",
     "output_type": "stream",
     "text": [
      "+---------+----+-----+---+----+------+------+----+-----+-----+---------+-----+---------+----+----+-----+----+----+----+----+----+----+----+----+----+----+----+----+----+----+----+----+-----+----+-----+----+-----+----+-----+----+-----+----+-----+----+-----+----+---------+---------+------------+------------+------+\n",
      "|direction|year|month|day|hour|minute|second|lane|class|speed|num_axles|  gvw|wheelbase| wt1|spc1|  wt2|spc2| wt3|spc3| wt4|spc4| wt5|spc5| wt6|spc6| wt7|spc7| wt8|spc8| wt9|spc9|wt10|spc10|wt11|spc11|wt12|spc12|wt13|spc13|wt14|spc14|wt15|spc15|wt16|spc16|wt17|dirtravel|yearmonth|exceed_80000|exceed_22400|Ticket|\n",
      "+---------+----+-----+---+----+------+------+----+-----+-----+---------+-----+---------+----+----+-----+----+----+----+----+----+----+----+----+----+----+----+----+----+----+----+----+-----+----+-----+----+-----+----+-----+----+-----+----+-----+----+-----+----+---------+---------+------------+------------+------+\n",
      "|       QB|  24|    8| 26|   6|    30|    55|   2|    2|   52|        2| 4400|      9.4|2600| 9.4| 1800|NULL|NULL|NULL|NULL|NULL|NULL|NULL|NULL|NULL|NULL|NULL|NULL|NULL|NULL|NULL|NULL| NULL|NULL| NULL|NULL| NULL|NULL| NULL|NULL| NULL|NULL| NULL|NULL| NULL|NULL|     NULL|   202408|           0|           0|     0|\n",
      "|       QB|  24|    1| 20|  15|    29|    21|   1|    2|   38|        2| 4260|      9.4|2260| 9.4| 2000|NULL|NULL|NULL|NULL|NULL|NULL|NULL|NULL|NULL|NULL|NULL|NULL|NULL|NULL|NULL|NULL| NULL|NULL| NULL|NULL| NULL|NULL| NULL|NULL| NULL|NULL| NULL|NULL| NULL|NULL|     NULL|   202401|           0|           0|     0|\n",
      "|       QB|  24|    8| 14|  17|    12|    49|   2|    2|   51|        2| 5580|     10.0|2680|10.0| 2900|NULL|NULL|NULL|NULL|NULL|NULL|NULL|NULL|NULL|NULL|NULL|NULL|NULL|NULL|NULL|NULL| NULL|NULL| NULL|NULL| NULL|NULL| NULL|NULL| NULL|NULL| NULL|NULL| NULL|NULL|     NULL|   202408|           0|           0|     0|\n",
      "|       QB|  24|    4|  1|   9|    14|    12|   1|    5|   43|        2|21700|     17.8|6720|17.8|14980|NULL|NULL|NULL|NULL|NULL|NULL|NULL|NULL|NULL|NULL|NULL|NULL|NULL|NULL|NULL|NULL| NULL|NULL| NULL|NULL| NULL|NULL| NULL|NULL| NULL|NULL| NULL|NULL| NULL|NULL|     NULL|   202404|           0|           0|     0|\n",
      "|       QB|  24|    8|  5|  18|    48|    29|   2|    3|   48|        2| 6300|     11.7|3540|11.7| 2760|NULL|NULL|NULL|NULL|NULL|NULL|NULL|NULL|NULL|NULL|NULL|NULL|NULL|NULL|NULL|NULL| NULL|NULL| NULL|NULL| NULL|NULL| NULL|NULL| NULL|NULL| NULL|NULL| NULL|NULL|     NULL|   202408|           0|           0|     0|\n",
      "+---------+----+-----+---+----+------+------+----+-----+-----+---------+-----+---------+----+----+-----+----+----+----+----+----+----+----+----+----+----+----+----+----+----+----+----+-----+----+-----+----+-----+----+-----+----+-----+----+-----+----+-----+----+---------+---------+------------+------------+------+\n",
      "only showing top 5 rows\n"
     ]
    }
   ],
   "source": [
    "#If any single axle load is > 22400 lb weight is non-compliant marked as 1 in col: exceed_22400\n",
    "#If any single axle load is > 24,640 lb col Ticket = 1\n",
    "\n",
    "df3 = spark.sql(\n",
    "    \"\"\" \n",
    "        SELECT * EXCEPT (Ticket), \n",
    "            CASE\n",
    "                WHEN GREATEST(\n",
    "                    CAST(wt1 AS DOUBLE), CAST(wt2 AS DOUBLE), CAST(wt3 AS DOUBLE), CAST(wt4 AS DOUBLE),\n",
    "                    CAST(wt5 AS DOUBLE), CAST(wt6 AS DOUBLE), CAST(wt7 AS DOUBLE), CAST(wt8 AS DOUBLE),\n",
    "                    CAST(wt9 AS DOUBLE), CAST(wt10 AS DOUBLE), CAST(wt11 AS DOUBLE), CAST(wt12 AS DOUBLE),\n",
    "                    CAST(wt13 AS DOUBLE), CAST(wt14 AS DOUBLE), CAST(wt15 AS DOUBLE), CAST(wt16 AS DOUBLE),\n",
    "                    CAST(wt17 AS DOUBLE)\n",
    "                ) > 22400 THEN 1\n",
    "                ELSE 0\n",
    "            END AS exceed_22400,\n",
    "            CASE\n",
    "                WHEN GREATEST(\n",
    "                    CAST(wt1 AS DOUBLE), CAST(wt2 AS DOUBLE), CAST(wt3 AS DOUBLE), CAST(wt4 AS DOUBLE),\n",
    "                    CAST(wt5 AS DOUBLE), CAST(wt6 AS DOUBLE), CAST(wt7 AS DOUBLE), CAST(wt8 AS DOUBLE),\n",
    "                    CAST(wt9 AS DOUBLE), CAST(wt10 AS DOUBLE), CAST(wt11 AS DOUBLE), CAST(wt12 AS DOUBLE),\n",
    "                    CAST(wt13 AS DOUBLE), CAST(wt14 AS DOUBLE), CAST(wt15 AS DOUBLE), CAST(wt16 AS DOUBLE),\n",
    "                    CAST(wt17 AS DOUBLE)\n",
    "                ) > 24640 THEN 1\n",
    "                ELSE Ticket  \n",
    "            END AS Ticket\n",
    "        FROM table2\n",
    "        WHERE direction = 'QB'\n",
    "    \"\"\"\n",
    ")\n",
    "\n",
    "\n",
    "\n",
    "df3.show(5)"
   ]
  },
  {
   "cell_type": "code",
   "execution_count": 117,
   "id": "5a18420d",
   "metadata": {},
   "outputs": [
    {
     "data": {
      "text/plain": [
       "32069"
      ]
     },
     "execution_count": 117,
     "metadata": {},
     "output_type": "execute_result"
    }
   ],
   "source": [
    "exceed_1axle_limit_24_25 = df3.filter(\"exceed_22400 ==  1\").count() \n",
    "\n",
    "exceed_1axle_limit_24_25\n",
    "#32,069 exceed 22400 lb one axle wt limit from 2024-2025"
   ]
  },
  {
   "cell_type": "code",
   "execution_count": 118,
   "id": "0ef0399b",
   "metadata": {},
   "outputs": [
    {
     "data": {
      "text/plain": [
       "15089"
      ]
     },
     "execution_count": 118,
     "metadata": {},
     "output_type": "execute_result"
    }
   ],
   "source": [
    "exceed_1axle_limit_24_25_ticket_count = df3.filter(\"Ticket ==  1\").count() - exceed_gvw_limit_24_25_ticket_count\n",
    "\n",
    "exceed_1axle_limit_24_25_ticket_count \n",
    "#4,951 Tickets issued for GVW > 88000 lb\n",
    "#15,089 Tickets issued for single axle overload"
   ]
  },
  {
   "cell_type": "code",
   "execution_count": 119,
   "id": "1e08bad4",
   "metadata": {},
   "outputs": [],
   "source": [
    "df3.createOrReplaceTempView(\"table3\")"
   ]
  },
  {
   "cell_type": "code",
   "execution_count": 120,
   "id": "24a9067e",
   "metadata": {},
   "outputs": [
    {
     "name": "stdout",
     "output_type": "stream",
     "text": [
      "+---------+----+-----+---+----+------+------+----+-----+-----+---------+-----+---------+----+----+-----+----+----+----+----+----+----+----+----+----+----+----+----+----+----+----+----+-----+----+-----+----+-----+----+-----+----+-----+----+-----+----+-----+----+---------+---------+------------+------------+------+-------------+\n",
      "|direction|year|month|day|hour|minute|second|lane|class|speed|num_axles|  gvw|wheelbase| wt1|spc1|  wt2|spc2| wt3|spc3| wt4|spc4| wt5|spc5| wt6|spc6| wt7|spc7| wt8|spc8| wt9|spc9|wt10|spc10|wt11|spc11|wt12|spc12|wt13|spc13|wt14|spc14|wt15|spc15|wt16|spc16|wt17|dirtravel|yearmonth|exceed_80000|exceed_22400|Ticket|check_spacing|\n",
      "+---------+----+-----+---+----+------+------+----+-----+-----+---------+-----+---------+----+----+-----+----+----+----+----+----+----+----+----+----+----+----+----+----+----+----+----+-----+----+-----+----+-----+----+-----+----+-----+----+-----+----+-----+----+---------+---------+------------+------------+------+-------------+\n",
      "|       QB|  24|    8| 26|   6|    30|    55|   2|    2|   52|        2| 4400|      9.4|2600| 9.4| 1800|NULL|NULL|NULL|NULL|NULL|NULL|NULL|NULL|NULL|NULL|NULL|NULL|NULL|NULL|NULL|NULL| NULL|NULL| NULL|NULL| NULL|NULL| NULL|NULL| NULL|NULL| NULL|NULL| NULL|NULL|     NULL|   202408|           0|           0|     0|            0|\n",
      "|       QB|  24|    1| 20|  15|    29|    21|   1|    2|   38|        2| 4260|      9.4|2260| 9.4| 2000|NULL|NULL|NULL|NULL|NULL|NULL|NULL|NULL|NULL|NULL|NULL|NULL|NULL|NULL|NULL|NULL| NULL|NULL| NULL|NULL| NULL|NULL| NULL|NULL| NULL|NULL| NULL|NULL| NULL|NULL|     NULL|   202401|           0|           0|     0|            0|\n",
      "|       QB|  24|    8| 14|  17|    12|    49|   2|    2|   51|        2| 5580|     10.0|2680|10.0| 2900|NULL|NULL|NULL|NULL|NULL|NULL|NULL|NULL|NULL|NULL|NULL|NULL|NULL|NULL|NULL|NULL| NULL|NULL| NULL|NULL| NULL|NULL| NULL|NULL| NULL|NULL| NULL|NULL| NULL|NULL|     NULL|   202408|           0|           0|     0|            0|\n",
      "|       QB|  24|    4|  1|   9|    14|    12|   1|    5|   43|        2|21700|     17.8|6720|17.8|14980|NULL|NULL|NULL|NULL|NULL|NULL|NULL|NULL|NULL|NULL|NULL|NULL|NULL|NULL|NULL|NULL| NULL|NULL| NULL|NULL| NULL|NULL| NULL|NULL| NULL|NULL| NULL|NULL| NULL|NULL|     NULL|   202404|           0|           0|     0|            0|\n",
      "|       QB|  24|    8|  5|  18|    48|    29|   2|    3|   48|        2| 6300|     11.7|3540|11.7| 2760|NULL|NULL|NULL|NULL|NULL|NULL|NULL|NULL|NULL|NULL|NULL|NULL|NULL|NULL|NULL|NULL| NULL|NULL| NULL|NULL| NULL|NULL| NULL|NULL| NULL|NULL| NULL|NULL| NULL|NULL|     NULL|   202408|           0|           0|     0|            0|\n",
      "+---------+----+-----+---+----+------+------+----+-----+-----+---------+-----+---------+----+----+-----+----+----+----+----+----+----+----+----+----+----+----+----+----+----+----+----+-----+----+-----+----+-----+----+-----+----+-----+----+-----+----+-----+----+---------+---------+------------+------------+------+-------------+\n",
      "only showing top 5 rows\n"
     ]
    }
   ],
   "source": [
    "#data spacing units are in meters\n",
    "#Spacing requirement made for any two axles with  54\" < spacing < 120\"  approx 1.37 meters < s < 3.05 meters\n",
    "\n",
    "spc_conditions = \" OR \".join([f\"(spc{i} >= 1.37 AND spc{i} <= 3.05)\" for i in range(1, 17)])\n",
    "\n",
    "df4 = spark.sql(f\"\"\"\n",
    "    SELECT *,\n",
    "        CASE \n",
    "            WHEN {spc_conditions} THEN 1 \n",
    "            ELSE 0 \n",
    "        END AS check_spacing\n",
    "    FROM table3\n",
    "    WHERE direction = 'QB'\n",
    "\"\"\")\n",
    "\n",
    "df4.show(5)\n"
   ]
  },
  {
   "cell_type": "code",
   "execution_count": 121,
   "id": "c1e57872",
   "metadata": {},
   "outputs": [
    {
     "data": {
      "text/plain": [
       "25456"
      ]
     },
     "execution_count": 121,
     "metadata": {},
     "output_type": "execute_result"
    }
   ],
   "source": [
    "spc_2axle_loading_case_count_24_25 = df4.filter(\"check_spacing == 1\").count()\n",
    "\n",
    "spc_2axle_loading_case_count_24_25\n",
    "#25,456 vehicles that have at least 1 pair of axles with spacing 1.34 < s < 3.05"
   ]
  },
  {
   "cell_type": "code",
   "execution_count": 122,
   "id": "45b4e39e",
   "metadata": {},
   "outputs": [],
   "source": [
    "df4.createOrReplaceTempView(\"table4\")"
   ]
  },
  {
   "cell_type": "code",
   "execution_count": 123,
   "id": "e62cb65a",
   "metadata": {},
   "outputs": [
    {
     "name": "stdout",
     "output_type": "stream",
     "text": [
      "+---------+----+-----+---+----+------+------+----+-----+-----+---------+-----+---------+----+----+-----+----+----+----+----+----+----+----+----+----+----+----+----+----+----+----+----+-----+----+-----+----+-----+----+-----+----+-----+----+-----+----+-----+----+---------+---------+------------+------------+-------------+------------------+------+\n",
      "|direction|year|month|day|hour|minute|second|lane|class|speed|num_axles|  gvw|wheelbase| wt1|spc1|  wt2|spc2| wt3|spc3| wt4|spc4| wt5|spc5| wt6|spc6| wt7|spc7| wt8|spc8| wt9|spc9|wt10|spc10|wt11|spc11|wt12|spc12|wt13|spc13|wt14|spc14|wt15|spc15|wt16|spc16|wt17|dirtravel|yearmonth|exceed_80000|exceed_22400|check_spacing|2axle_exceed_36000|Ticket|\n",
      "+---------+----+-----+---+----+------+------+----+-----+-----+---------+-----+---------+----+----+-----+----+----+----+----+----+----+----+----+----+----+----+----+----+----+----+----+-----+----+-----+----+-----+----+-----+----+-----+----+-----+----+-----+----+---------+---------+------------+------------+-------------+------------------+------+\n",
      "|       QB|  24|    8| 26|   6|    30|    55|   2|    2|   52|        2| 4400|      9.4|2600| 9.4| 1800|NULL|NULL|NULL|NULL|NULL|NULL|NULL|NULL|NULL|NULL|NULL|NULL|NULL|NULL|NULL|NULL| NULL|NULL| NULL|NULL| NULL|NULL| NULL|NULL| NULL|NULL| NULL|NULL| NULL|NULL|     NULL|   202408|           0|           0|            0|                 0|     0|\n",
      "|       QB|  24|    1| 20|  15|    29|    21|   1|    2|   38|        2| 4260|      9.4|2260| 9.4| 2000|NULL|NULL|NULL|NULL|NULL|NULL|NULL|NULL|NULL|NULL|NULL|NULL|NULL|NULL|NULL|NULL| NULL|NULL| NULL|NULL| NULL|NULL| NULL|NULL| NULL|NULL| NULL|NULL| NULL|NULL|     NULL|   202401|           0|           0|            0|                 0|     0|\n",
      "|       QB|  24|    8| 14|  17|    12|    49|   2|    2|   51|        2| 5580|     10.0|2680|10.0| 2900|NULL|NULL|NULL|NULL|NULL|NULL|NULL|NULL|NULL|NULL|NULL|NULL|NULL|NULL|NULL|NULL| NULL|NULL| NULL|NULL| NULL|NULL| NULL|NULL| NULL|NULL| NULL|NULL| NULL|NULL|     NULL|   202408|           0|           0|            0|                 0|     0|\n",
      "|       QB|  24|    4|  1|   9|    14|    12|   1|    5|   43|        2|21700|     17.8|6720|17.8|14980|NULL|NULL|NULL|NULL|NULL|NULL|NULL|NULL|NULL|NULL|NULL|NULL|NULL|NULL|NULL|NULL| NULL|NULL| NULL|NULL| NULL|NULL| NULL|NULL| NULL|NULL| NULL|NULL| NULL|NULL|     NULL|   202404|           0|           0|            0|                 0|     0|\n",
      "|       QB|  24|    8|  5|  18|    48|    29|   2|    3|   48|        2| 6300|     11.7|3540|11.7| 2760|NULL|NULL|NULL|NULL|NULL|NULL|NULL|NULL|NULL|NULL|NULL|NULL|NULL|NULL|NULL|NULL| NULL|NULL| NULL|NULL| NULL|NULL| NULL|NULL| NULL|NULL| NULL|NULL| NULL|NULL|     NULL|   202408|           0|           0|            0|                 0|     0|\n",
      "+---------+----+-----+---+----+------+------+----+-----+-----+---------+-----+---------+----+----+-----+----+----+----+----+----+----+----+----+----+----+----+----+----+----+----+----+-----+----+-----+----+-----+----+-----+----+-----+----+-----+----+-----+----+---------+---------+------------+------------+-------------+------------------+------+\n",
      "only showing top 5 rows\n"
     ]
    }
   ],
   "source": [
    "#Some of the wts were type str, casted them to int\n",
    "pair_conditions = \" OR \".join([f\"(CAST(wt{i} AS DOUBLE) + CAST(wt{i+1} AS DOUBLE) > 36000)\" for i in range(1, 15)])\n",
    "pair_conditions2 = \" OR \".join([f\"(CAST(wt{i} AS DOUBLE) + CAST(wt{i+1} AS DOUBLE) > 39600)\" for i in range(1, 15)])\n",
    "\n",
    "df5 = spark.sql(f\"\"\"\n",
    "    SELECT * EXCEPT (Ticket),\n",
    "        CASE \n",
    "            WHEN check_spacing = 1 AND ({pair_conditions}) THEN 1 \n",
    "            ELSE 0 \n",
    "        END AS 2axle_exceed_36000,\n",
    "        CASE \n",
    "            WHEN check_spacing = 1 AND ({pair_conditions2}) THEN 1 \n",
    "            ELSE Ticket \n",
    "        END AS Ticket\n",
    "    FROM table4\n",
    "\"\"\")\n",
    "\n",
    "df5.show(5)"
   ]
  },
  {
   "cell_type": "code",
   "execution_count": 124,
   "id": "66283b76",
   "metadata": {},
   "outputs": [
    {
     "data": {
      "text/plain": [
       "381"
      ]
     },
     "execution_count": 124,
     "metadata": {},
     "output_type": "execute_result"
    }
   ],
   "source": [
    "exceed_2axle_limit_24_25 = df5.filter(\"2axle_exceed_36000 ==  1\").count()\n",
    "\n",
    "exceed_2axle_limit_24_25\n",
    "#381 vehicles exceeded load req on at least 1 pair of axles with load > 36,000"
   ]
  },
  {
   "cell_type": "code",
   "execution_count": 125,
   "id": "fe6cad2b",
   "metadata": {},
   "outputs": [
    {
     "data": {
      "text/plain": [
       "41"
      ]
     },
     "execution_count": 125,
     "metadata": {},
     "output_type": "execute_result"
    }
   ],
   "source": [
    "exceed_2axle_limit_24_25_ticket_count = df5.filter(\"Ticket ==  1\").count() - exceed_gvw_limit_24_25_ticket_count - exceed_1axle_limit_24_25_ticket_count\n",
    "\n",
    "exceed_2axle_limit_24_25_ticket_count\n",
    "#20,081 total tickets\n",
    "#4,951 Tickets issued for GVW > 88000 lb\n",
    "#15,089 Tickets issued for single axle overload\n",
    "#41 Tickets issued for 2axle load  > 39,600 lb"
   ]
  },
  {
   "cell_type": "code",
   "execution_count": 126,
   "id": "143f85c6",
   "metadata": {},
   "outputs": [],
   "source": [
    "df5.createOrReplaceTempView(\"table5\")"
   ]
  },
  {
   "cell_type": "code",
   "execution_count": 127,
   "id": "cc647f5e",
   "metadata": {},
   "outputs": [
    {
     "name": "stdout",
     "output_type": "stream",
     "text": [
      "+---------+----+-----+---+----+------+------+----+-----+-----+---------+-----+---------+----+----+-----+----+----+----+----+----+----+----+----+----+----+----+----+----+----+----+----+-----+----+-----+----+-----+----+-----+----+-----+----+-----+----+-----+----+---------+---------+------------+------------+-------------+------------------+------+---------+\n",
      "|direction|year|month|day|hour|minute|second|lane|class|speed|num_axles|  gvw|wheelbase| wt1|spc1|  wt2|spc2| wt3|spc3| wt4|spc4| wt5|spc5| wt6|spc6| wt7|spc7| wt8|spc8| wt9|spc9|wt10|spc10|wt11|spc11|wt12|spc12|wt13|spc13|wt14|spc14|wt15|spc15|wt16|spc16|wt17|dirtravel|yearmonth|exceed_80000|exceed_22400|check_spacing|2axle_exceed_36000|Ticket|compliant|\n",
      "+---------+----+-----+---+----+------+------+----+-----+-----+---------+-----+---------+----+----+-----+----+----+----+----+----+----+----+----+----+----+----+----+----+----+----+----+-----+----+-----+----+-----+----+-----+----+-----+----+-----+----+-----+----+---------+---------+------------+------------+-------------+------------------+------+---------+\n",
      "|       QB|  24|    8| 26|   6|    30|    55|   2|    2|   52|        2| 4400|      9.4|2600| 9.4| 1800|NULL|NULL|NULL|NULL|NULL|NULL|NULL|NULL|NULL|NULL|NULL|NULL|NULL|NULL|NULL|NULL| NULL|NULL| NULL|NULL| NULL|NULL| NULL|NULL| NULL|NULL| NULL|NULL| NULL|NULL|     NULL|   202408|           0|           0|            0|                 0|     0|        1|\n",
      "|       QB|  24|    1| 20|  15|    29|    21|   1|    2|   38|        2| 4260|      9.4|2260| 9.4| 2000|NULL|NULL|NULL|NULL|NULL|NULL|NULL|NULL|NULL|NULL|NULL|NULL|NULL|NULL|NULL|NULL| NULL|NULL| NULL|NULL| NULL|NULL| NULL|NULL| NULL|NULL| NULL|NULL| NULL|NULL|     NULL|   202401|           0|           0|            0|                 0|     0|        1|\n",
      "|       QB|  24|    8| 14|  17|    12|    49|   2|    2|   51|        2| 5580|     10.0|2680|10.0| 2900|NULL|NULL|NULL|NULL|NULL|NULL|NULL|NULL|NULL|NULL|NULL|NULL|NULL|NULL|NULL|NULL| NULL|NULL| NULL|NULL| NULL|NULL| NULL|NULL| NULL|NULL| NULL|NULL| NULL|NULL|     NULL|   202408|           0|           0|            0|                 0|     0|        1|\n",
      "|       QB|  24|    4|  1|   9|    14|    12|   1|    5|   43|        2|21700|     17.8|6720|17.8|14980|NULL|NULL|NULL|NULL|NULL|NULL|NULL|NULL|NULL|NULL|NULL|NULL|NULL|NULL|NULL|NULL| NULL|NULL| NULL|NULL| NULL|NULL| NULL|NULL| NULL|NULL| NULL|NULL| NULL|NULL|     NULL|   202404|           0|           0|            0|                 0|     0|        1|\n",
      "|       QB|  24|    8|  5|  18|    48|    29|   2|    3|   48|        2| 6300|     11.7|3540|11.7| 2760|NULL|NULL|NULL|NULL|NULL|NULL|NULL|NULL|NULL|NULL|NULL|NULL|NULL|NULL|NULL|NULL| NULL|NULL| NULL|NULL| NULL|NULL| NULL|NULL| NULL|NULL| NULL|NULL| NULL|NULL|     NULL|   202408|           0|           0|            0|                 0|     0|        1|\n",
      "+---------+----+-----+---+----+------+------+----+-----+-----+---------+-----+---------+----+----+-----+----+----+----+----+----+----+----+----+----+----+----+----+----+----+----+----+-----+----+-----+----+-----+----+-----+----+-----+----+-----+----+-----+----+---------+---------+------------+------------+-------------+------------------+------+---------+\n",
      "only showing top 5 rows\n"
     ]
    }
   ],
   "source": [
    "#Creating compliant col , compliant = 1 non-compliant = 0\n",
    "df6 = spark.sql(\n",
    "    \"\"\" \n",
    "    SELECT *,\n",
    "        CASE \n",
    "            WHEN exceed_80000 == 1 OR exceed_22400 == 1 OR 2axle_exceed_36000 == 1 THEN 0\n",
    "            ELSE 1\n",
    "        END AS compliant\n",
    "    FROM table5\n",
    "    \"\"\"\n",
    ")\n",
    "\n",
    "df6.show(5)"
   ]
  },
  {
   "cell_type": "code",
   "execution_count": 128,
   "id": "f10a8586",
   "metadata": {},
   "outputs": [
    {
     "data": {
      "text/plain": [
       "14277642"
      ]
     },
     "execution_count": 128,
     "metadata": {},
     "output_type": "execute_result"
    }
   ],
   "source": [
    "compliant_count_24_25 = df6.filter(\"compliant == 1\").count()\n",
    "\n",
    "compliant_count_24_25\n",
    "#14,277,642 compliant vehicles"
   ]
  },
  {
   "cell_type": "code",
   "execution_count": 129,
   "id": "c6e5d19e",
   "metadata": {},
   "outputs": [
    {
     "data": {
      "text/plain": [
       "53192"
      ]
     },
     "execution_count": 129,
     "metadata": {},
     "output_type": "execute_result"
    }
   ],
   "source": [
    "non_compliant_count_24_25 = df6.filter(\"compliant == 0\").count()\n",
    "\n",
    "non_compliant_count_24_25\n",
    "#53,192 non-compliant vehicles"
   ]
  },
  {
   "cell_type": "code",
   "execution_count": 130,
   "id": "ed08aa49",
   "metadata": {},
   "outputs": [],
   "source": [
    "spark.stop() #Dont forget to end session"
   ]
  },
  {
   "cell_type": "code",
   "execution_count": null,
   "id": "a2021c6a",
   "metadata": {},
   "outputs": [],
   "source": []
  }
 ],
 "metadata": {
  "kernelspec": {
   "display_name": "Fall25_Capstone",
   "language": "python",
   "name": "python3"
  },
  "language_info": {
   "codemirror_mode": {
    "name": "ipython",
    "version": 3
   },
   "file_extension": ".py",
   "mimetype": "text/x-python",
   "name": "python",
   "nbconvert_exporter": "python",
   "pygments_lexer": "ipython3",
   "version": "3.12.11"
  }
 },
 "nbformat": 4,
 "nbformat_minor": 5
}
